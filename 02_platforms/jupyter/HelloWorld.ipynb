{
 "cells": [
  {
   "metadata": {},
   "cell_type": "markdown",
   "source": "# Hello World",
   "id": "fa9c5ee052c6bcf0"
  },
  {
   "metadata": {
    "ExecuteTime": {
     "end_time": "2025-06-07T07:37:46.151366Z",
     "start_time": "2025-06-07T07:37:46.148240Z"
    }
   },
   "cell_type": "code",
   "source": "print('Hello World and beyond!')",
   "id": "334cd5bacd1b968a",
   "outputs": [
    {
     "name": "stdout",
     "output_type": "stream",
     "text": [
      "Hello World and beyond!\n"
     ]
    }
   ],
   "execution_count": 1
  }
 ],
 "metadata": {
  "kernelspec": {
   "display_name": "Python 3",
   "language": "python",
   "name": "python3"
  },
  "language_info": {
   "codemirror_mode": {
    "name": "ipython",
    "version": 2
   },
   "file_extension": ".py",
   "mimetype": "text/x-python",
   "name": "python",
   "nbconvert_exporter": "python",
   "pygments_lexer": "ipython2",
   "version": "2.7.6"
  }
 },
 "nbformat": 4,
 "nbformat_minor": 5
}
